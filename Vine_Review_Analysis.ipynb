{
  "nbformat": 4,
  "nbformat_minor": 0,
  "metadata": {
    "colab": {
      "name": "Vine_Review_Analysis.ipynb",
      "provenance": [],
      "collapsed_sections": [],
      "authorship_tag": "ABX9TyNqxjvNWd1XqANuAPTIR3Oq",
      "include_colab_link": true
    },
    "kernelspec": {
      "name": "python3",
      "display_name": "Python 3"
    },
    "language_info": {
      "name": "python"
    }
  },
  "cells": [
    {
      "cell_type": "markdown",
      "metadata": {
        "id": "view-in-github",
        "colab_type": "text"
      },
      "source": [
        "<a href=\"https://colab.research.google.com/github/Austin-Cyr/Amazon_Vine_Analysis/blob/main/Vine_Review_Analysis.ipynb\" target=\"_parent\"><img src=\"https://colab.research.google.com/assets/colab-badge.svg\" alt=\"Open In Colab\"/></a>"
      ]
    },
    {
      "cell_type": "code",
      "metadata": {
        "colab": {
          "base_uri": "https://localhost:8080/"
        },
        "id": "xRVoljLqY4hB",
        "outputId": "496453cb-6234-4871-c5a9-1043f2cc1eda"
      },
      "source": [
        "import os\n",
        "# Find the latest version of spark 3.0 from http://www.apache.org/dist/spark/ and enter as the spark version\n",
        "# For example:\n",
        "# spark_version = 'spark-3.0.3'\n",
        "spark_version = 'spark-3.0.3'\n",
        "os.environ['SPARK_VERSION']=spark_version\n",
        "\n",
        "# Install Spark and Java\n",
        "!apt-get update\n",
        "!apt-get install openjdk-11-jdk-headless -qq > /dev/null\n",
        "!wget -q http://www.apache.org/dist/spark/$SPARK_VERSION/$SPARK_VERSION-bin-hadoop2.7.tgz\n",
        "!tar xf $SPARK_VERSION-bin-hadoop2.7.tgz\n",
        "!pip install -q findspark\n",
        "\n",
        "# Set Environment Variables\n",
        "import os\n",
        "os.environ[\"JAVA_HOME\"] = \"/usr/lib/jvm/java-11-openjdk-amd64\"\n",
        "os.environ[\"SPARK_HOME\"] = f\"/content/{spark_version}-bin-hadoop2.7\"\n",
        "\n",
        "# Start a SparkSession\n",
        "import findspark\n",
        "findspark.init()"
      ],
      "execution_count": 1,
      "outputs": [
        {
          "output_type": "stream",
          "name": "stdout",
          "text": [
            "\r0% [Working]\r            \rGet:1 http://security.ubuntu.com/ubuntu bionic-security InRelease [88.7 kB]\n",
            "\r0% [Connecting to archive.ubuntu.com (91.189.88.142)] [1 InRelease 14.2 kB/88.7\r0% [Connecting to archive.ubuntu.com (91.189.88.142)] [Waiting for headers] [Wa\r0% [1 InRelease gpgv 88.7 kB] [Connecting to archive.ubuntu.com (91.189.88.142)\r                                                                               \rIgn:2 https://developer.download.nvidia.com/compute/cuda/repos/ubuntu1804/x86_64  InRelease\n",
            "Get:3 https://cloud.r-project.org/bin/linux/ubuntu bionic-cran40/ InRelease [3,626 B]\n",
            "Hit:4 http://ppa.launchpad.net/c2d4u.team/c2d4u4.0+/ubuntu bionic InRelease\n",
            "Ign:5 https://developer.download.nvidia.com/compute/machine-learning/repos/ubuntu1804/x86_64  InRelease\n",
            "Hit:6 https://developer.download.nvidia.com/compute/cuda/repos/ubuntu1804/x86_64  Release\n",
            "Hit:7 http://archive.ubuntu.com/ubuntu bionic InRelease\n",
            "Hit:8 https://developer.download.nvidia.com/compute/machine-learning/repos/ubuntu1804/x86_64  Release\n",
            "Get:9 http://archive.ubuntu.com/ubuntu bionic-updates InRelease [88.7 kB]\n",
            "Hit:10 http://ppa.launchpad.net/cran/libgit2/ubuntu bionic InRelease\n",
            "Get:11 http://security.ubuntu.com/ubuntu bionic-security/universe amd64 Packages [1,430 kB]\n",
            "Hit:12 http://ppa.launchpad.net/deadsnakes/ppa/ubuntu bionic InRelease\n",
            "Get:13 http://archive.ubuntu.com/ubuntu bionic-backports InRelease [74.6 kB]\n",
            "Hit:14 http://ppa.launchpad.net/graphics-drivers/ppa/ubuntu bionic InRelease\n",
            "Get:17 http://archive.ubuntu.com/ubuntu bionic-updates/universe amd64 Packages [2,208 kB]\n",
            "Get:18 http://archive.ubuntu.com/ubuntu bionic-updates/main amd64 Packages [2,800 kB]\n",
            "Fetched 6,695 kB in 3s (1,928 kB/s)\n",
            "Reading package lists... Done\n"
          ]
        }
      ]
    },
    {
      "cell_type": "code",
      "metadata": {
        "colab": {
          "base_uri": "https://localhost:8080/"
        },
        "id": "gy3Il3L3ZO4n",
        "outputId": "68250f7c-2b88-464c-c263-b4e4c4712fee"
      },
      "source": [
        "# Download the Postgres driver that will allow Spark to interact with Postgres.\n",
        "!wget https://jdbc.postgresql.org/download/postgresql-42.2.16.jar"
      ],
      "execution_count": 2,
      "outputs": [
        {
          "output_type": "stream",
          "name": "stdout",
          "text": [
            "--2021-10-03 04:24:15--  https://jdbc.postgresql.org/download/postgresql-42.2.16.jar\n",
            "Resolving jdbc.postgresql.org (jdbc.postgresql.org)... 72.32.157.228, 2001:4800:3e1:1::228\n",
            "Connecting to jdbc.postgresql.org (jdbc.postgresql.org)|72.32.157.228|:443... connected.\n",
            "HTTP request sent, awaiting response... 200 OK\n",
            "Length: 1002883 (979K) [application/java-archive]\n",
            "Saving to: ‘postgresql-42.2.16.jar’\n",
            "\n",
            "postgresql-42.2.16. 100%[===================>] 979.38K  --.-KB/s    in 0.1s    \n",
            "\n",
            "2021-10-03 04:24:16 (6.62 MB/s) - ‘postgresql-42.2.16.jar’ saved [1002883/1002883]\n",
            "\n"
          ]
        }
      ]
    },
    {
      "cell_type": "code",
      "metadata": {
        "id": "uYhcRHV4ZSpr"
      },
      "source": [
        "from pyspark.sql import SparkSession\n",
        "spark = SparkSession.builder.appName(\"M16-Amazon-Challenge\").config(\"spark.driver.extraClassPath\",\"/content/postgresql-42.2.16.jar\").getOrCreate()"
      ],
      "execution_count": 3,
      "outputs": []
    },
    {
      "cell_type": "code",
      "metadata": {
        "colab": {
          "base_uri": "https://localhost:8080/"
        },
        "id": "kOz6PYsTZViC",
        "outputId": "23b82648-408d-4eeb-c5f3-8eabb7d6b0e6"
      },
      "source": [
        "from pyspark import SparkFiles\n",
        "url = \"https://s3.amazonaws.com/amazon-reviews-pds/tsv/amazon_reviews_us_Software_v1_00.tsv.gz\"\n",
        "spark.sparkContext.addFile(url)\n",
        "df = spark.read.option(\"encoding\", \"UTF-8\").csv(SparkFiles.get(\"\"), sep=\"\\t\", header=True, inferSchema=True)\n",
        "df.show()"
      ],
      "execution_count": 4,
      "outputs": [
        {
          "output_type": "stream",
          "name": "stdout",
          "text": [
            "+-----------+-----------+--------------+----------+--------------+--------------------+----------------+-----------+-------------+-----------+----+-----------------+--------------------+--------------------+-----------+\n",
            "|marketplace|customer_id|     review_id|product_id|product_parent|       product_title|product_category|star_rating|helpful_votes|total_votes|vine|verified_purchase|     review_headline|         review_body|review_date|\n",
            "+-----------+-----------+--------------+----------+--------------+--------------------+----------------+-----------+-------------+-----------+----+-----------------+--------------------+--------------------+-----------+\n",
            "|         US|   42605767|R3EFW2STIYIY0I|B00MUTIDKI|     248732228|McAfee 2015 Inter...|        Software|          1|            2|          2|   N|                Y|I was very disapp...|I was very disapp...| 2015-08-31|\n",
            "|         US|   51771800|R12NR0R5A9F7FT|B00EPACNUG|     531462352|Hallmark Card Stu...|        Software|          5|            0|          0|   N|                Y|          Five Stars|I had a little st...| 2015-08-31|\n",
            "|         US|   16053526|R1LSH74R9XAP59|B00164AZA4|     473982505| Search and Rescue 4|        Software|          2|            0|          1|   N|                Y|    Have windows 10?|Tried to download...| 2015-08-31|\n",
            "|         US|   15319481|R1QXUNTF76K7L6|B00E6LIEFM|     189774198|      Quickbooks Pro|        Software|          2|            0|          0|   N|                Y|Disc was corrupt,...|Disc was corrupt,...| 2015-08-31|\n",
            "|         US|    1441820|R2F7DR75PS8NKT|B00VWEBG06|     852470365|Windows 7 Profess...|        Software|          5|            0|          0|   N|                Y|          Five Stars|Just what I neede...| 2015-08-31|\n",
            "|         US|   37107850|R2C1DJSCC8UFS6|B00EP7AP7C|     279360628|Family Tree Maker...|        Software|          3|            0|          0|   N|                Y|         Three Stars|Didn't like havin...| 2015-08-31|\n",
            "|         US|     302120|R1AXGS1W4YFXMX|B00OW2PET4|     729971168|World of Farming:...|        Software|          1|            0|          2|   N|                Y|            One Star|it does not work ...| 2015-08-31|\n",
            "|         US|   20193077|R1XU1B93402SYJ|B00N4OLCRO|     776572654|Photoshop Element...|        Software|          1|            1|          1|   N|                Y|Can't load to my ...|I have tried for ...| 2015-08-31|\n",
            "|         US|   13106017|R2U432NB3OPVR0|B005CELN8W|     222071424|Phantom EFX WMS S...|        Software|          5|            0|          0|   N|                Y|          Five Stars|       love the game| 2015-08-31|\n",
            "|         US|   32587108|R3R6FIMIOQ5SP9|B005CELL1G|     168801430|PaperPort Profess...|        Software|          5|            0|          0|   N|                Y|Meets our small b...|Great software. A...| 2015-08-31|\n",
            "|         US|   32020017|R12TX6V09C9QNQ|B00H09BOXQ|     455502995|Windows 7 Profess...|        Software|          5|            0|          0|   N|                Y|          Five Stars|             Awesome| 2015-08-31|\n",
            "|         US|   13376158|R33UCII6YKUMKV|B00MCLGAAO|     652069521| QuickBooks Pro 2015|        Software|          3|            2|          2|   N|                Y|Nothing New in Th...|To start this rev...| 2015-08-31|\n",
            "|         US|   47098110| RZKDAB9TGO053|B00P6U8C5Y|     871602905|Block Financial H...|        Software|          1|            0|          0|   N|                Y|Missing key infor...|Some key provisio...| 2015-08-31|\n",
            "|         US|   24083274|R2EMN2EEDN73ZA|B00MA5TPN6|     299038085|Parallels Desktop...|        Software|          4|            0|          0|   N|                Y|Probably the best...|Probably the best...| 2015-08-31|\n",
            "|         US|   41137196| RU9LHN1NJDVOI|B000EQ868I|     534229510|Cosmi Print Perfe...|        Software|          5|            0|          0|   N|                Y|          Five Stars|I was pleased wit...| 2015-08-31|\n",
            "|         US|   18003829|R19910SO17BQUE|B00MYXTCMI|      42668324|TurboTax Business...|        Software|          5|            0|          0|   N|                Y|... what it is su...|This program does...| 2015-08-31|\n",
            "|         US|   14460749|R32N10BW8MH847|B008PIQXP0|     116724371|I.R.I.S. Readiris...|        Software|          4|            2|          4|   N|                Y|          Four Stars|Again it should h...| 2015-08-31|\n",
            "|         US|   12641855| R2DNM85DH7FGK|B00KAFOXXU|     471261945|Finale PrintMusic...|        Software|          5|            0|          2|   N|                Y|          Five Stars|               great| 2015-08-31|\n",
            "|         US|   13775565|R2G9RFFW051RWY|B00OKSOLE4|     694520847|Microsoft Office ...|        Software|          5|            0|          0|   N|                Y|          Five Stars|        Easy to use.| 2015-08-31|\n",
            "|         US|   31044774|R26CC1STPSUHBS|B01019T6O0|     510976915|Microsoft Windows...|        Software|          1|           27|         39|   N|                N|Do NOT take the \"...|Do NOT take the &...| 2015-08-31|\n",
            "+-----------+-----------+--------------+----------+--------------+--------------------+----------------+-----------+-------------+-----------+----+-----------------+--------------------+--------------------+-----------+\n",
            "only showing top 20 rows\n",
            "\n"
          ]
        }
      ]
    },
    {
      "cell_type": "code",
      "metadata": {
        "colab": {
          "base_uri": "https://localhost:8080/"
        },
        "id": "Zoo57LA3ZXwm",
        "outputId": "e4871f67-3814-44af-9855-0361bfd85575"
      },
      "source": [
        "from pyspark.sql.functions import to_date\n",
        "# Read in the Review dataset as a DataFrame\n",
        "from pyspark import SparkFiles\n",
        "url = \"https://s3.amazonaws.com/amazon-reviews-pds/tsv/amazon_reviews_us_Software_v1_00.tsv.gz\"\n",
        "spark.sparkContext.addFile(url)\n",
        "df = spark.read.option(\"encoding\", \"UTF-8\").csv(SparkFiles.get(\"\"), sep=\"\\t\", header=True, inferSchema=True)\n",
        "df.show()"
      ],
      "execution_count": 5,
      "outputs": [
        {
          "output_type": "stream",
          "name": "stdout",
          "text": [
            "+-----------+-----------+--------------+----------+--------------+--------------------+----------------+-----------+-------------+-----------+----+-----------------+--------------------+--------------------+-----------+\n",
            "|marketplace|customer_id|     review_id|product_id|product_parent|       product_title|product_category|star_rating|helpful_votes|total_votes|vine|verified_purchase|     review_headline|         review_body|review_date|\n",
            "+-----------+-----------+--------------+----------+--------------+--------------------+----------------+-----------+-------------+-----------+----+-----------------+--------------------+--------------------+-----------+\n",
            "|         US|   42605767|R3EFW2STIYIY0I|B00MUTIDKI|     248732228|McAfee 2015 Inter...|        Software|          1|            2|          2|   N|                Y|I was very disapp...|I was very disapp...| 2015-08-31|\n",
            "|         US|   51771800|R12NR0R5A9F7FT|B00EPACNUG|     531462352|Hallmark Card Stu...|        Software|          5|            0|          0|   N|                Y|          Five Stars|I had a little st...| 2015-08-31|\n",
            "|         US|   16053526|R1LSH74R9XAP59|B00164AZA4|     473982505| Search and Rescue 4|        Software|          2|            0|          1|   N|                Y|    Have windows 10?|Tried to download...| 2015-08-31|\n",
            "|         US|   15319481|R1QXUNTF76K7L6|B00E6LIEFM|     189774198|      Quickbooks Pro|        Software|          2|            0|          0|   N|                Y|Disc was corrupt,...|Disc was corrupt,...| 2015-08-31|\n",
            "|         US|    1441820|R2F7DR75PS8NKT|B00VWEBG06|     852470365|Windows 7 Profess...|        Software|          5|            0|          0|   N|                Y|          Five Stars|Just what I neede...| 2015-08-31|\n",
            "|         US|   37107850|R2C1DJSCC8UFS6|B00EP7AP7C|     279360628|Family Tree Maker...|        Software|          3|            0|          0|   N|                Y|         Three Stars|Didn't like havin...| 2015-08-31|\n",
            "|         US|     302120|R1AXGS1W4YFXMX|B00OW2PET4|     729971168|World of Farming:...|        Software|          1|            0|          2|   N|                Y|            One Star|it does not work ...| 2015-08-31|\n",
            "|         US|   20193077|R1XU1B93402SYJ|B00N4OLCRO|     776572654|Photoshop Element...|        Software|          1|            1|          1|   N|                Y|Can't load to my ...|I have tried for ...| 2015-08-31|\n",
            "|         US|   13106017|R2U432NB3OPVR0|B005CELN8W|     222071424|Phantom EFX WMS S...|        Software|          5|            0|          0|   N|                Y|          Five Stars|       love the game| 2015-08-31|\n",
            "|         US|   32587108|R3R6FIMIOQ5SP9|B005CELL1G|     168801430|PaperPort Profess...|        Software|          5|            0|          0|   N|                Y|Meets our small b...|Great software. A...| 2015-08-31|\n",
            "|         US|   32020017|R12TX6V09C9QNQ|B00H09BOXQ|     455502995|Windows 7 Profess...|        Software|          5|            0|          0|   N|                Y|          Five Stars|             Awesome| 2015-08-31|\n",
            "|         US|   13376158|R33UCII6YKUMKV|B00MCLGAAO|     652069521| QuickBooks Pro 2015|        Software|          3|            2|          2|   N|                Y|Nothing New in Th...|To start this rev...| 2015-08-31|\n",
            "|         US|   47098110| RZKDAB9TGO053|B00P6U8C5Y|     871602905|Block Financial H...|        Software|          1|            0|          0|   N|                Y|Missing key infor...|Some key provisio...| 2015-08-31|\n",
            "|         US|   24083274|R2EMN2EEDN73ZA|B00MA5TPN6|     299038085|Parallels Desktop...|        Software|          4|            0|          0|   N|                Y|Probably the best...|Probably the best...| 2015-08-31|\n",
            "|         US|   41137196| RU9LHN1NJDVOI|B000EQ868I|     534229510|Cosmi Print Perfe...|        Software|          5|            0|          0|   N|                Y|          Five Stars|I was pleased wit...| 2015-08-31|\n",
            "|         US|   18003829|R19910SO17BQUE|B00MYXTCMI|      42668324|TurboTax Business...|        Software|          5|            0|          0|   N|                Y|... what it is su...|This program does...| 2015-08-31|\n",
            "|         US|   14460749|R32N10BW8MH847|B008PIQXP0|     116724371|I.R.I.S. Readiris...|        Software|          4|            2|          4|   N|                Y|          Four Stars|Again it should h...| 2015-08-31|\n",
            "|         US|   12641855| R2DNM85DH7FGK|B00KAFOXXU|     471261945|Finale PrintMusic...|        Software|          5|            0|          2|   N|                Y|          Five Stars|               great| 2015-08-31|\n",
            "|         US|   13775565|R2G9RFFW051RWY|B00OKSOLE4|     694520847|Microsoft Office ...|        Software|          5|            0|          0|   N|                Y|          Five Stars|        Easy to use.| 2015-08-31|\n",
            "|         US|   31044774|R26CC1STPSUHBS|B01019T6O0|     510976915|Microsoft Windows...|        Software|          1|           27|         39|   N|                N|Do NOT take the \"...|Do NOT take the &...| 2015-08-31|\n",
            "+-----------+-----------+--------------+----------+--------------+--------------------+----------------+-----------+-------------+-----------+----+-----------------+--------------------+--------------------+-----------+\n",
            "only showing top 20 rows\n",
            "\n"
          ]
        }
      ]
    },
    {
      "cell_type": "code",
      "metadata": {
        "colab": {
          "base_uri": "https://localhost:8080/"
        },
        "id": "bUKgIUbtZb5p",
        "outputId": "4786ed04-9c53-4981-ed9d-40a96c72a704"
      },
      "source": [
        "# Create the vine_table. DataFrame\n",
        "vine_df = df.select(['review_id', 'star_rating', 'helpful_votes', 'total_votes', 'vine', 'verified_purchase'])\n",
        "vine_df.show()"
      ],
      "execution_count": 6,
      "outputs": [
        {
          "output_type": "stream",
          "name": "stdout",
          "text": [
            "+--------------+-----------+-------------+-----------+----+-----------------+\n",
            "|     review_id|star_rating|helpful_votes|total_votes|vine|verified_purchase|\n",
            "+--------------+-----------+-------------+-----------+----+-----------------+\n",
            "|R3EFW2STIYIY0I|          1|            2|          2|   N|                Y|\n",
            "|R12NR0R5A9F7FT|          5|            0|          0|   N|                Y|\n",
            "|R1LSH74R9XAP59|          2|            0|          1|   N|                Y|\n",
            "|R1QXUNTF76K7L6|          2|            0|          0|   N|                Y|\n",
            "|R2F7DR75PS8NKT|          5|            0|          0|   N|                Y|\n",
            "|R2C1DJSCC8UFS6|          3|            0|          0|   N|                Y|\n",
            "|R1AXGS1W4YFXMX|          1|            0|          2|   N|                Y|\n",
            "|R1XU1B93402SYJ|          1|            1|          1|   N|                Y|\n",
            "|R2U432NB3OPVR0|          5|            0|          0|   N|                Y|\n",
            "|R3R6FIMIOQ5SP9|          5|            0|          0|   N|                Y|\n",
            "|R12TX6V09C9QNQ|          5|            0|          0|   N|                Y|\n",
            "|R33UCII6YKUMKV|          3|            2|          2|   N|                Y|\n",
            "| RZKDAB9TGO053|          1|            0|          0|   N|                Y|\n",
            "|R2EMN2EEDN73ZA|          4|            0|          0|   N|                Y|\n",
            "| RU9LHN1NJDVOI|          5|            0|          0|   N|                Y|\n",
            "|R19910SO17BQUE|          5|            0|          0|   N|                Y|\n",
            "|R32N10BW8MH847|          4|            2|          4|   N|                Y|\n",
            "| R2DNM85DH7FGK|          5|            0|          2|   N|                Y|\n",
            "|R2G9RFFW051RWY|          5|            0|          0|   N|                Y|\n",
            "|R26CC1STPSUHBS|          1|           27|         39|   N|                N|\n",
            "+--------------+-----------+-------------+-----------+----+-----------------+\n",
            "only showing top 20 rows\n",
            "\n"
          ]
        }
      ]
    },
    {
      "cell_type": "code",
      "metadata": {
        "colab": {
          "base_uri": "https://localhost:8080/"
        },
        "id": "RP5jMVp8ZudV",
        "outputId": "6c9720fe-b10e-42f8-dc3f-e18efabdc4a6"
      },
      "source": [
        "vine20_df = vine_df.filter(\"total_votes>=20\")\n",
        "vine20_df.show()\n"
      ],
      "execution_count": 15,
      "outputs": [
        {
          "output_type": "stream",
          "name": "stdout",
          "text": [
            "+--------------+-----------+-------------+-----------+----+-----------------+\n",
            "|     review_id|star_rating|helpful_votes|total_votes|vine|verified_purchase|\n",
            "+--------------+-----------+-------------+-----------+----+-----------------+\n",
            "|R26CC1STPSUHBS|          1|           27|         39|   N|                N|\n",
            "| R7K83D59T9KWS|          1|           16|         26|   N|                N|\n",
            "|R2ATG5BPVILHUM|          1|           16|         25|   N|                N|\n",
            "|R1Q71TAM5ZOYTK|          3|           57|         61|   N|                N|\n",
            "| RR8HYI7C2XKMU|          5|           25|         25|   N|                Y|\n",
            "|R1VDCSJE4CJJIR|          1|           88|         97|   N|                Y|\n",
            "|R2PZMSDKOO1Q6W|          1|           29|         43|   N|                Y|\n",
            "|R39OOYN0DOLINK|          3|           91|        111|   N|                N|\n",
            "|R1PLNHJZ8BKIBG|          1|           44|         46|   N|                Y|\n",
            "|R14G4YQXL17REH|          1|            4|         28|   N|                N|\n",
            "|R3UTVKJF44E0R6|          1|           46|         69|   N|                N|\n",
            "| R2J71KOOLF9UB|          1|            5|         20|   N|                Y|\n",
            "|R2CAD5FOVMTR2L|          2|           17|         28|   N|                N|\n",
            "|R2SW9V1EDQH6O7|          5|           27|         29|   N|                N|\n",
            "|R3SI1TZD809Y0T|          5|           24|         24|   N|                Y|\n",
            "|R23WY4HVMD8SY3|          1|            7|         24|   N|                N|\n",
            "|R2V0VLBRWCMX3I|          1|          563|        601|   N|                N|\n",
            "| R34R79B2P5DJD|          1|           87|        112|   N|                N|\n",
            "| R4D6AQ86X5RQG|          1|           22|         26|   N|                N|\n",
            "|R1BSZ4PB99TN8D|          1|           61|         90|   N|                N|\n",
            "+--------------+-----------+-------------+-----------+----+-----------------+\n",
            "only showing top 20 rows\n",
            "\n"
          ]
        }
      ]
    },
    {
      "cell_type": "code",
      "metadata": {
        "colab": {
          "base_uri": "https://localhost:8080/"
        },
        "id": "16MbRxK3ZzYc",
        "outputId": "43bb529e-e468-40f4-c416-046965beb0df"
      },
      "source": [
        "vinehv_tv = vine20_df.withColumn('HV_TV', vine20_df['helpful_votes'] / vine20_df['total_votes'])\n",
        "vinehv_tv.show()"
      ],
      "execution_count": 31,
      "outputs": [
        {
          "output_type": "stream",
          "name": "stdout",
          "text": [
            "+--------------+-----------+-------------+-----------+----+-----------------+-------------------+\n",
            "|     review_id|star_rating|helpful_votes|total_votes|vine|verified_purchase|              HV_TV|\n",
            "+--------------+-----------+-------------+-----------+----+-----------------+-------------------+\n",
            "|R26CC1STPSUHBS|          1|           27|         39|   N|                N| 0.6923076923076923|\n",
            "| R7K83D59T9KWS|          1|           16|         26|   N|                N| 0.6153846153846154|\n",
            "|R2ATG5BPVILHUM|          1|           16|         25|   N|                N|               0.64|\n",
            "|R1Q71TAM5ZOYTK|          3|           57|         61|   N|                N| 0.9344262295081968|\n",
            "| RR8HYI7C2XKMU|          5|           25|         25|   N|                Y|                1.0|\n",
            "|R1VDCSJE4CJJIR|          1|           88|         97|   N|                Y| 0.9072164948453608|\n",
            "|R2PZMSDKOO1Q6W|          1|           29|         43|   N|                Y| 0.6744186046511628|\n",
            "|R39OOYN0DOLINK|          3|           91|        111|   N|                N| 0.8198198198198198|\n",
            "|R1PLNHJZ8BKIBG|          1|           44|         46|   N|                Y| 0.9565217391304348|\n",
            "|R14G4YQXL17REH|          1|            4|         28|   N|                N|0.14285714285714285|\n",
            "|R3UTVKJF44E0R6|          1|           46|         69|   N|                N| 0.6666666666666666|\n",
            "| R2J71KOOLF9UB|          1|            5|         20|   N|                Y|               0.25|\n",
            "|R2CAD5FOVMTR2L|          2|           17|         28|   N|                N| 0.6071428571428571|\n",
            "|R2SW9V1EDQH6O7|          5|           27|         29|   N|                N| 0.9310344827586207|\n",
            "|R3SI1TZD809Y0T|          5|           24|         24|   N|                Y|                1.0|\n",
            "|R23WY4HVMD8SY3|          1|            7|         24|   N|                N| 0.2916666666666667|\n",
            "|R2V0VLBRWCMX3I|          1|          563|        601|   N|                N| 0.9367720465890182|\n",
            "| R34R79B2P5DJD|          1|           87|        112|   N|                N| 0.7767857142857143|\n",
            "| R4D6AQ86X5RQG|          1|           22|         26|   N|                N| 0.8461538461538461|\n",
            "|R1BSZ4PB99TN8D|          1|           61|         90|   N|                N| 0.6777777777777778|\n",
            "+--------------+-----------+-------------+-----------+----+-----------------+-------------------+\n",
            "only showing top 20 rows\n",
            "\n"
          ]
        }
      ]
    },
    {
      "cell_type": "code",
      "metadata": {
        "colab": {
          "base_uri": "https://localhost:8080/"
        },
        "id": "pqm3OrBWb92u",
        "outputId": "6efe46dd-4179-45c1-b9ac-136d9aee44b1"
      },
      "source": [
        "vinehv50 = vinehv_tv.filter('HV_TV>=.50')\n",
        "vinehv50.show()"
      ],
      "execution_count": 32,
      "outputs": [
        {
          "output_type": "stream",
          "name": "stdout",
          "text": [
            "+--------------+-----------+-------------+-----------+----+-----------------+------------------+\n",
            "|     review_id|star_rating|helpful_votes|total_votes|vine|verified_purchase|             HV_TV|\n",
            "+--------------+-----------+-------------+-----------+----+-----------------+------------------+\n",
            "|R26CC1STPSUHBS|          1|           27|         39|   N|                N|0.6923076923076923|\n",
            "| R7K83D59T9KWS|          1|           16|         26|   N|                N|0.6153846153846154|\n",
            "|R2ATG5BPVILHUM|          1|           16|         25|   N|                N|              0.64|\n",
            "|R1Q71TAM5ZOYTK|          3|           57|         61|   N|                N|0.9344262295081968|\n",
            "| RR8HYI7C2XKMU|          5|           25|         25|   N|                Y|               1.0|\n",
            "|R1VDCSJE4CJJIR|          1|           88|         97|   N|                Y|0.9072164948453608|\n",
            "|R2PZMSDKOO1Q6W|          1|           29|         43|   N|                Y|0.6744186046511628|\n",
            "|R39OOYN0DOLINK|          3|           91|        111|   N|                N|0.8198198198198198|\n",
            "|R1PLNHJZ8BKIBG|          1|           44|         46|   N|                Y|0.9565217391304348|\n",
            "|R3UTVKJF44E0R6|          1|           46|         69|   N|                N|0.6666666666666666|\n",
            "|R2CAD5FOVMTR2L|          2|           17|         28|   N|                N|0.6071428571428571|\n",
            "|R2SW9V1EDQH6O7|          5|           27|         29|   N|                N|0.9310344827586207|\n",
            "|R3SI1TZD809Y0T|          5|           24|         24|   N|                Y|               1.0|\n",
            "|R2V0VLBRWCMX3I|          1|          563|        601|   N|                N|0.9367720465890182|\n",
            "| R34R79B2P5DJD|          1|           87|        112|   N|                N|0.7767857142857143|\n",
            "| R4D6AQ86X5RQG|          1|           22|         26|   N|                N|0.8461538461538461|\n",
            "|R1BSZ4PB99TN8D|          1|           61|         90|   N|                N|0.6777777777777778|\n",
            "|R1QMF01BDRT2LJ|          1|           10|         20|   N|                N|               0.5|\n",
            "|R2NBUUW79OYBGT|          1|           57|         58|   N|                Y|0.9827586206896551|\n",
            "|R24OEFISZWTBDJ|          4|           17|         25|   N|                N|              0.68|\n",
            "+--------------+-----------+-------------+-----------+----+-----------------+------------------+\n",
            "only showing top 20 rows\n",
            "\n"
          ]
        }
      ]
    },
    {
      "cell_type": "code",
      "metadata": {
        "colab": {
          "base_uri": "https://localhost:8080/"
        },
        "id": "haEYjcAzcQRu",
        "outputId": "c28b296e-bd34-4d6d-cb6c-9f6513743659"
      },
      "source": [
        "vine_paid = vinehv50.filter(\"vine== 'Y'\")\n",
        "vine_paid.show()"
      ],
      "execution_count": 38,
      "outputs": [
        {
          "output_type": "stream",
          "name": "stdout",
          "text": [
            "+--------------+-----------+-------------+-----------+----+-----------------+------------------+\n",
            "|     review_id|star_rating|helpful_votes|total_votes|vine|verified_purchase|             HV_TV|\n",
            "+--------------+-----------+-------------+-----------+----+-----------------+------------------+\n",
            "|R28EIR3Z6RRUNN|          2|           50|         60|   Y|                N|0.8333333333333334|\n",
            "|R2YO2RESXZEWOF|          4|           24|         25|   Y|                N|              0.96|\n",
            "| R8GEE2EW3D6S9|          3|           49|         54|   Y|                N|0.9074074074074074|\n",
            "|R33W9V1MX6WKPS|          4|           47|         53|   Y|                N|0.8867924528301887|\n",
            "|R24E3W2ZRIFG8C|          5|           91|         93|   Y|                N| 0.978494623655914|\n",
            "|R2OR3KIFFG4YWT|          4|           75|         81|   Y|                Y|0.9259259259259259|\n",
            "|R1RLJAAFOA5MMS|          2|           25|         27|   Y|                N|0.9259259259259259|\n",
            "| RVYHD7IZ7W99B|          1|           78|         78|   Y|                N|               1.0|\n",
            "|R12EV95D2T56HA|          5|           37|         37|   Y|                N|               1.0|\n",
            "|R296NVZGV4VZLP|          5|           41|         44|   Y|                N|0.9318181818181818|\n",
            "| RLJPGO3YMKSI6|          5|           24|         27|   Y|                N|0.8888888888888888|\n",
            "|R33KYYMINUELQA|          2|           23|         23|   Y|                N|               1.0|\n",
            "| RNNE1AAL4XU7W|          4|           60|         64|   Y|                N|            0.9375|\n",
            "| RC38M96UFDOOI|          3|           78|         87|   Y|                N| 0.896551724137931|\n",
            "| RR9F2YTECN67C|          5|           35|         37|   Y|                N|0.9459459459459459|\n",
            "|R1HB8SSCA97V9U|          5|          100|        105|   Y|                N|0.9523809523809523|\n",
            "| RX4E94KN6K16U|          5|           56|         59|   Y|                N|0.9491525423728814|\n",
            "|R1XLGO18EB3KZA|          5|           25|         25|   Y|                N|               1.0|\n",
            "|R1R9XER49EMT2N|          2|           34|         35|   Y|                N|0.9714285714285714|\n",
            "| R7ST49NTUXZLV|          5|           23|         25|   Y|                N|              0.92|\n",
            "+--------------+-----------+-------------+-----------+----+-----------------+------------------+\n",
            "only showing top 20 rows\n",
            "\n"
          ]
        }
      ]
    },
    {
      "cell_type": "code",
      "metadata": {
        "colab": {
          "base_uri": "https://localhost:8080/"
        },
        "id": "DvHSc3t5hPCv",
        "outputId": "b83d855f-501e-4351-9e98-561f4d79ac0d"
      },
      "source": [
        "vine_notpaid = vinehv50.filter(\"vine== 'N'\")\n",
        "vine_notpaid.show()"
      ],
      "execution_count": 39,
      "outputs": [
        {
          "output_type": "stream",
          "name": "stdout",
          "text": [
            "+--------------+-----------+-------------+-----------+----+-----------------+------------------+\n",
            "|     review_id|star_rating|helpful_votes|total_votes|vine|verified_purchase|             HV_TV|\n",
            "+--------------+-----------+-------------+-----------+----+-----------------+------------------+\n",
            "|R26CC1STPSUHBS|          1|           27|         39|   N|                N|0.6923076923076923|\n",
            "| R7K83D59T9KWS|          1|           16|         26|   N|                N|0.6153846153846154|\n",
            "|R2ATG5BPVILHUM|          1|           16|         25|   N|                N|              0.64|\n",
            "|R1Q71TAM5ZOYTK|          3|           57|         61|   N|                N|0.9344262295081968|\n",
            "| RR8HYI7C2XKMU|          5|           25|         25|   N|                Y|               1.0|\n",
            "|R1VDCSJE4CJJIR|          1|           88|         97|   N|                Y|0.9072164948453608|\n",
            "|R2PZMSDKOO1Q6W|          1|           29|         43|   N|                Y|0.6744186046511628|\n",
            "|R39OOYN0DOLINK|          3|           91|        111|   N|                N|0.8198198198198198|\n",
            "|R1PLNHJZ8BKIBG|          1|           44|         46|   N|                Y|0.9565217391304348|\n",
            "|R3UTVKJF44E0R6|          1|           46|         69|   N|                N|0.6666666666666666|\n",
            "|R2CAD5FOVMTR2L|          2|           17|         28|   N|                N|0.6071428571428571|\n",
            "|R2SW9V1EDQH6O7|          5|           27|         29|   N|                N|0.9310344827586207|\n",
            "|R3SI1TZD809Y0T|          5|           24|         24|   N|                Y|               1.0|\n",
            "|R2V0VLBRWCMX3I|          1|          563|        601|   N|                N|0.9367720465890182|\n",
            "| R34R79B2P5DJD|          1|           87|        112|   N|                N|0.7767857142857143|\n",
            "| R4D6AQ86X5RQG|          1|           22|         26|   N|                N|0.8461538461538461|\n",
            "|R1BSZ4PB99TN8D|          1|           61|         90|   N|                N|0.6777777777777778|\n",
            "|R1QMF01BDRT2LJ|          1|           10|         20|   N|                N|               0.5|\n",
            "|R2NBUUW79OYBGT|          1|           57|         58|   N|                Y|0.9827586206896551|\n",
            "|R24OEFISZWTBDJ|          4|           17|         25|   N|                N|              0.68|\n",
            "+--------------+-----------+-------------+-----------+----+-----------------+------------------+\n",
            "only showing top 20 rows\n",
            "\n"
          ]
        }
      ]
    },
    {
      "cell_type": "markdown",
      "metadata": {
        "id": "FT8lCPXCi_ZZ"
      },
      "source": [
        "Total Paid Vine Reviews"
      ]
    },
    {
      "cell_type": "code",
      "metadata": {
        "colab": {
          "base_uri": "https://localhost:8080/"
        },
        "id": "JCX2Br9xhiD_",
        "outputId": "0cbe28f7-e2cc-409b-a3e2-b0ceacc75317"
      },
      "source": [
        "vine_paid.count()\n"
      ],
      "execution_count": 50,
      "outputs": [
        {
          "output_type": "execute_result",
          "data": {
            "text/plain": [
              "248"
            ]
          },
          "metadata": {},
          "execution_count": 50
        }
      ]
    },
    {
      "cell_type": "markdown",
      "metadata": {
        "id": "76rFjT3EjOkN"
      },
      "source": [
        "Number of 5 Star Review Products with Paid Vine Reviews"
      ]
    },
    {
      "cell_type": "code",
      "metadata": {
        "colab": {
          "base_uri": "https://localhost:8080/"
        },
        "id": "59o6yIbshv_n",
        "outputId": "0029bfc2-a51b-4d5e-eb4b-b294dde14832"
      },
      "source": [
        "vine_paid.filter(\"star_rating == '5'\").count()"
      ],
      "execution_count": 42,
      "outputs": [
        {
          "output_type": "execute_result",
          "data": {
            "text/plain": [
              "102"
            ]
          },
          "metadata": {},
          "execution_count": 42
        }
      ]
    },
    {
      "cell_type": "markdown",
      "metadata": {
        "id": "NtpIj1Z2jYQc"
      },
      "source": [
        "Percent of Paid Reviews with 5 Star Product Ratings"
      ]
    },
    {
      "cell_type": "code",
      "metadata": {
        "colab": {
          "base_uri": "https://localhost:8080/"
        },
        "id": "bjWwTVRah3Fv",
        "outputId": "f9507411-f53b-4452-d434-43908535bf20"
      },
      "source": [
        "102/248"
      ],
      "execution_count": 43,
      "outputs": [
        {
          "output_type": "execute_result",
          "data": {
            "text/plain": [
              "0.4112903225806452"
            ]
          },
          "metadata": {},
          "execution_count": 43
        }
      ]
    },
    {
      "cell_type": "markdown",
      "metadata": {
        "id": "rNcP25OYi7px"
      },
      "source": [
        ""
      ]
    },
    {
      "cell_type": "markdown",
      "metadata": {
        "id": "FW12MMSYjiGj"
      },
      "source": [
        "Total Products without Paid Vine Reviews"
      ]
    },
    {
      "cell_type": "code",
      "metadata": {
        "colab": {
          "base_uri": "https://localhost:8080/"
        },
        "id": "5-s9dpHEiQdz",
        "outputId": "511fd14a-c155-4360-b2ce-749582b6fbfc"
      },
      "source": [
        "vine_notpaid.count()"
      ],
      "execution_count": 44,
      "outputs": [
        {
          "output_type": "execute_result",
          "data": {
            "text/plain": [
              "17514"
            ]
          },
          "metadata": {},
          "execution_count": 44
        }
      ]
    },
    {
      "cell_type": "markdown",
      "metadata": {
        "id": "bx9K7JqIju4W"
      },
      "source": [
        "Number of 5 Star Review Products without Paid Vine Reviews"
      ]
    },
    {
      "cell_type": "code",
      "metadata": {
        "colab": {
          "base_uri": "https://localhost:8080/"
        },
        "id": "2hT_33XTiSI_",
        "outputId": "804b249e-efec-4303-8ec0-91a013ae11cf"
      },
      "source": [
        "vine_notpaid.filter(\"star_rating == '5'\").count()"
      ],
      "execution_count": 45,
      "outputs": [
        {
          "output_type": "execute_result",
          "data": {
            "text/plain": [
              "5154"
            ]
          },
          "metadata": {},
          "execution_count": 45
        }
      ]
    },
    {
      "cell_type": "markdown",
      "metadata": {
        "id": "6-g7DQj2jpEC"
      },
      "source": [
        "Percent of Not Paid Reviews with 5 Star Product Ratings"
      ]
    },
    {
      "cell_type": "code",
      "metadata": {
        "id": "za0A2MNcjowF"
      },
      "source": [
        ""
      ],
      "execution_count": null,
      "outputs": []
    },
    {
      "cell_type": "code",
      "metadata": {
        "colab": {
          "base_uri": "https://localhost:8080/"
        },
        "id": "UhRVXgPNiU9u",
        "outputId": "0db9200a-31d0-4978-bdd6-4fc211f5ce73"
      },
      "source": [
        "5154/17514"
      ],
      "execution_count": 46,
      "outputs": [
        {
          "output_type": "execute_result",
          "data": {
            "text/plain": [
              "0.29427886262418634"
            ]
          },
          "metadata": {},
          "execution_count": 46
        }
      ]
    },
    {
      "cell_type": "code",
      "metadata": {
        "id": "p16kr3neiXv-"
      },
      "source": [
        ""
      ],
      "execution_count": null,
      "outputs": []
    }
  ]
}